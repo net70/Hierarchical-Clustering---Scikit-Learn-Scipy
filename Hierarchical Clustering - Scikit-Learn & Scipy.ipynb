{
 "cells": [
  {
   "cell_type": "code",
   "execution_count": 1,
   "metadata": {
    "collapsed": false
   },
   "outputs": [],
   "source": [
    "import numpy as np\n",
    "import pandas as pd\n",
    "from scipy.cluster.hierarchy import dendrogram, linkage, fcluster\n",
    "from scipy.spatial.distance import pdist, squareform\n",
    "from sklearn.preprocessing import scale\n",
    "import matplotlib.pyplot as plt\n",
    "from seaborn import pairplot\n",
    "plt.style.use('ggplot')\n",
    "%matplotlib inline"
   ]
  },
  {
   "cell_type": "markdown",
   "metadata": {
    "collapsed": true
   },
   "source": [
    "# Scenario\n",
    "\n",
    "We want to see sort different sources of protien into groups based in common characteristics, but how do we group them?\n",
    "Unlike other scenarios where we knew how many groups we're looking for, here we don't. This calls for hierarchical clustering.\n",
    "In other words, we'll use a clustering model that will treat each source of protien as a seperate cluster, and start pairing\n",
    "them together one at a time until we have one big cluster that concludes all sources. Then, we'll be able to decifer how many\n",
    "groups we have and characterize them. Let's get to it!"
   ]
  },
  {
   "cell_type": "markdown",
   "metadata": {},
   "source": [
    "First we will load our data set as a DataFrame and take a look at its head."
   ]
  },
  {
   "cell_type": "code",
   "execution_count": 2,
   "metadata": {
    "collapsed": false
   },
   "outputs": [
    {
     "data": {
      "text/html": [
       "<div>\n",
       "<table border=\"1\" class=\"dataframe\">\n",
       "  <thead>\n",
       "    <tr style=\"text-align: right;\">\n",
       "      <th></th>\n",
       "      <th>source</th>\n",
       "      <th>energy</th>\n",
       "      <th>protein</th>\n",
       "      <th>fat</th>\n",
       "      <th>iron</th>\n",
       "    </tr>\n",
       "  </thead>\n",
       "  <tbody>\n",
       "    <tr>\n",
       "      <th>0</th>\n",
       "      <td>BEEF BRAISED</td>\n",
       "      <td>340</td>\n",
       "      <td>20</td>\n",
       "      <td>28</td>\n",
       "      <td>2.6</td>\n",
       "    </tr>\n",
       "    <tr>\n",
       "      <th>1</th>\n",
       "      <td>HAMBURGER</td>\n",
       "      <td>245</td>\n",
       "      <td>21</td>\n",
       "      <td>17</td>\n",
       "      <td>2.7</td>\n",
       "    </tr>\n",
       "    <tr>\n",
       "      <th>2</th>\n",
       "      <td>BEEF ROAST</td>\n",
       "      <td>420</td>\n",
       "      <td>15</td>\n",
       "      <td>39</td>\n",
       "      <td>2.0</td>\n",
       "    </tr>\n",
       "    <tr>\n",
       "      <th>3</th>\n",
       "      <td>BEEF STEAK</td>\n",
       "      <td>375</td>\n",
       "      <td>19</td>\n",
       "      <td>32</td>\n",
       "      <td>2.6</td>\n",
       "    </tr>\n",
       "    <tr>\n",
       "      <th>4</th>\n",
       "      <td>BEEF CANNED</td>\n",
       "      <td>180</td>\n",
       "      <td>22</td>\n",
       "      <td>10</td>\n",
       "      <td>3.7</td>\n",
       "    </tr>\n",
       "  </tbody>\n",
       "</table>\n",
       "</div>"
      ],
      "text/plain": [
       "         source  energy  protein  fat  iron\n",
       "0  BEEF BRAISED     340       20   28   2.6\n",
       "1     HAMBURGER     245       21   17   2.7\n",
       "2    BEEF ROAST     420       15   39   2.0\n",
       "3    BEEF STEAK     375       19   32   2.6\n",
       "4   BEEF CANNED     180       22   10   3.7"
      ]
     },
     "execution_count": 2,
     "metadata": {},
     "output_type": "execute_result"
    }
   ],
   "source": [
    "protiens = pd.read_csv('Proteins.csv')\n",
    "protiens.head()"
   ]
  },
  {
   "cell_type": "markdown",
   "metadata": {},
   "source": [
    "Now, a responsible data analyst always checks for missing data prior to modeling. So that's exactly what we're gonna do."
   ]
  },
  {
   "cell_type": "code",
   "execution_count": 3,
   "metadata": {
    "collapsed": false
   },
   "outputs": [
    {
     "data": {
      "text/plain": [
       "False"
      ]
     },
     "execution_count": 3,
     "metadata": {},
     "output_type": "execute_result"
    }
   ],
   "source": [
    "protiens.isnull().values.any()"
   ]
  },
  {
   "cell_type": "markdown",
   "metadata": {},
   "source": [
    "Ok, so are data is intact and all features are numerical as well. which means we can get straight to it.\n",
    "First and foremost we have to scale our features in order to set their relative distance from  one another.\n",
    "This will yield a mean = 0 and stadnerd deviation of 1 for each feature in our data set. We'll be scaling via the scale method\n",
    "to get our Z distributions."
   ]
  },
  {
   "cell_type": "code",
   "execution_count": 4,
   "metadata": {
    "collapsed": false
   },
   "outputs": [
    {
     "data": {
      "text/html": [
       "<div>\n",
       "<table border=\"1\" class=\"dataframe\">\n",
       "  <thead>\n",
       "    <tr style=\"text-align: right;\">\n",
       "      <th></th>\n",
       "      <th>energy</th>\n",
       "      <th>protein</th>\n",
       "      <th>fat</th>\n",
       "      <th>iron</th>\n",
       "    </tr>\n",
       "    <tr>\n",
       "      <th>source</th>\n",
       "      <th></th>\n",
       "      <th></th>\n",
       "      <th></th>\n",
       "      <th></th>\n",
       "    </tr>\n",
       "  </thead>\n",
       "  <tbody>\n",
       "    <tr>\n",
       "      <th>BEEF BRAISED</th>\n",
       "      <td>1.301595</td>\n",
       "      <td>0.264987</td>\n",
       "      <td>1.278470</td>\n",
       "      <td>0.152676</td>\n",
       "    </tr>\n",
       "    <tr>\n",
       "      <th>HAMBURGER</th>\n",
       "      <td>0.361554</td>\n",
       "      <td>0.502561</td>\n",
       "      <td>0.298195</td>\n",
       "      <td>0.221117</td>\n",
       "    </tr>\n",
       "    <tr>\n",
       "      <th>BEEF ROAST</th>\n",
       "      <td>2.093208</td>\n",
       "      <td>-0.922884</td>\n",
       "      <td>2.258744</td>\n",
       "      <td>-0.257970</td>\n",
       "    </tr>\n",
       "    <tr>\n",
       "      <th>BEEF STEAK</th>\n",
       "      <td>1.647925</td>\n",
       "      <td>0.027412</td>\n",
       "      <td>1.634933</td>\n",
       "      <td>0.152676</td>\n",
       "    </tr>\n",
       "    <tr>\n",
       "      <th>BEEF CANNED</th>\n",
       "      <td>-0.281632</td>\n",
       "      <td>0.740135</td>\n",
       "      <td>-0.325616</td>\n",
       "      <td>0.905527</td>\n",
       "    </tr>\n",
       "  </tbody>\n",
       "</table>\n",
       "</div>"
      ],
      "text/plain": [
       "                energy   protein       fat      iron\n",
       "source                                              \n",
       "BEEF BRAISED  1.301595  0.264987  1.278470  0.152676\n",
       "HAMBURGER     0.361554  0.502561  0.298195  0.221117\n",
       "BEEF ROAST    2.093208 -0.922884  2.258744 -0.257970\n",
       "BEEF STEAK    1.647925  0.027412  1.634933  0.152676\n",
       "BEEF CANNED  -0.281632  0.740135 -0.325616  0.905527"
      ]
     },
     "execution_count": 4,
     "metadata": {},
     "output_type": "execute_result"
    }
   ],
   "source": [
    "z_protiens = scale(protiens.iloc[:,1:])\n",
    "z_protiens = pd.DataFrame(z_protiens, columns=['energy', 'protein', 'fat', 'iron'], index=protiens['source'])\n",
    "z_protiens.head()"
   ]
  },
  {
   "cell_type": "code",
   "execution_count": 5,
   "metadata": {
    "collapsed": false
   },
   "outputs": [
    {
     "data": {
      "text/plain": [
       "energy     0.0\n",
       "protein    0.0\n",
       "fat        0.0\n",
       "iron       0.0\n",
       "dtype: float64"
      ]
     },
     "execution_count": 5,
     "metadata": {},
     "output_type": "execute_result"
    }
   ],
   "source": [
    "round(z_protiens.mean(axis=0), 1)"
   ]
  },
  {
   "cell_type": "code",
   "execution_count": 6,
   "metadata": {
    "collapsed": false
   },
   "outputs": [
    {
     "data": {
      "text/plain": [
       "energy     1.0\n",
       "protein    1.0\n",
       "fat        1.0\n",
       "iron       1.0\n",
       "dtype: float64"
      ]
     },
     "execution_count": 6,
     "metadata": {},
     "output_type": "execute_result"
    }
   ],
   "source": [
    "round(z_protiens.std(axis=0), 1)"
   ]
  },
  {
   "cell_type": "markdown",
   "metadata": {},
   "source": [
    "So now that our data is scaled properly, we would like to know the euclidean distance between each source to all other sorces.\n",
    "We can build a matrix via built-in Scipy functions. We'll take a look at the distance between Hamburger and Beef Steak\n",
    "as an example."
   ]
  },
  {
   "cell_type": "code",
   "execution_count": 7,
   "metadata": {
    "collapsed": false
   },
   "outputs": [
    {
     "name": "stdout",
     "output_type": "stream",
     "text": [
      "1.91626438452 1.91626438452\n"
     ]
    }
   ],
   "source": [
    "distances = pdist(z_protiens, metric='euclidean')\n",
    "DistMatrix = squareform(distances)\n",
    "# Alternate way to get all distances.\n",
    "dist = np.sqrt(sum((a-b)**2 for a,b in zip(z_protiens.ix[1], z_protiens.ix[3])))\n",
    "print(dist, DistMatrix[1][3])"
   ]
  },
  {
   "cell_type": "markdown",
   "metadata": {},
   "source": [
    "Alright, all is set and we're ready to fit our model onto the data set. We'll be using the ward method for our model.\n",
    "Also, we should visualize our data via a Dendrogram to see the groups."
   ]
  },
  {
   "cell_type": "code",
   "execution_count": 8,
   "metadata": {
    "collapsed": false
   },
   "outputs": [
    {
     "data": {
      "image/png": "[encoded data removed]",
      "text/plain": [
       "<matplotlib.figure.Figure at 0x1ceb13ee5f8>"
      ]
     },
     "metadata": {},
     "output_type": "display_data"
    }
   ],
   "source": [
    "# Fitting our model.\n",
    "cluster_tree = linkage(z_protiens, 'ward')\n",
    "\n",
    "# Ploting our dendrogram.\n",
    "colors = ['g', 'b', 'r', 'p', 'y']\n",
    "plt.figure(figsize=(25, 10))\n",
    "plt.title('Hierarchical Clustering Dendrogram')\n",
    "plt.xlabel('Sources')\n",
    "plt.ylabel('Distance')\n",
    "\n",
    "dendrogram(cluster_tree, leaf_rotation=80., leaf_font_size=14.,  color_threshold=4.5)\n",
    "\n",
    "plt.show()"
   ]
  },
  {
   "cell_type": "markdown",
   "metadata": {},
   "source": [
    "Ok, as we can see there are 4 different groups(clusters) of Sources. Each Source was linked to the clossest one to it, and the\n",
    "proccess continued until all porints were conncected.\n",
    "\n",
    "If we look at our model we can which points were connected and at what distance. We have 26 Sources, so there are 25 \n",
    "connections. The model indicies are as follows [group1, group2, Linkage Height, cluster size].\n",
    "\n",
    "For instance, proteins[0] & protiens[10] merged in the first level, at level 12 proteins[13] with proteins[31].\n",
    "wait what?! We said there are 26 sources so how can there be index 31..?\n",
    "\n",
    "As we stated before, the data points continuesly merge into groups. This means that eventually single data points will merge\n",
    "with GROUPS and groups with other groups, until all is one. To show this, our model will return a (n−1) by 4 matrix \"Z\". At the i-th iteration, clusters with indices Z[i, 0] and Z[i, 1] are combined to form cluster n+i. A cluster with an index less than n corresponds to one of the n original observations. The distance between clusters Z[i, 0] and Z[i, 1] is given by Z[i, 2]. The fourth value Z[i, 3] represents the number of original observations in the newly formed cluster."
   ]
  },
  {
   "cell_type": "code",
   "execution_count": 9,
   "metadata": {
    "collapsed": false
   },
   "outputs": [
    {
     "data": {
      "text/plain": [
       "array([[  0.        ,  10.        ,   0.06844096,   2.        ],\n",
       "       [ 11.        ,  12.        ,   0.18616259,   2.        ],\n",
       "       [  6.        ,  24.        ,   0.20532289,   2.        ],\n",
       "       [ 19.        ,  23.        ,   0.31178339,   2.        ],\n",
       "       [ 26.        ,  27.        ,   0.41110105,   4.        ],\n",
       "       [  1.        ,   8.        ,   0.41444674,   2.        ],\n",
       "       [ 21.        ,  22.        ,   0.55275083,   2.        ],\n",
       "       [  3.        ,  30.        ,   0.56327253,   5.        ],\n",
       "       [  4.        ,  14.        ,   0.73160613,   2.        ],\n",
       "       [  5.        ,  15.        ,   0.756743  ,   2.        ],\n",
       "       [ 18.        ,  29.        ,   0.87989602,   3.        ],\n",
       "       [  9.        ,  33.        ,   0.94148148,   6.        ],\n",
       "       [ 13.        ,  31.        ,   1.01252331,   3.        ],\n",
       "       [ 20.        ,  32.        ,   1.02133295,   3.        ],\n",
       "       [ 16.        ,  17.        ,   1.06437332,   2.        ],\n",
       "       [ 25.        ,  34.        ,   1.30188854,   3.        ],\n",
       "       [ 28.        ,  35.        ,   1.58493321,   4.        ],\n",
       "       [ 36.        ,  39.        ,   1.87846472,   6.        ],\n",
       "       [  2.        ,  37.        ,   2.08591919,   7.        ],\n",
       "       [ 41.        ,  42.        ,   2.33763311,   7.        ],\n",
       "       [ 38.        ,  45.        ,   3.22839186,  10.        ],\n",
       "       [  7.        ,  46.        ,   3.74352871,  11.        ],\n",
       "       [ 43.        ,  47.        ,   4.90248149,  17.        ],\n",
       "       [ 40.        ,  48.        ,   7.3668063 ,  19.        ],\n",
       "       [ 44.        ,  49.        ,   8.97753648,  26.        ]])"
      ]
     },
     "execution_count": 9,
     "metadata": {},
     "output_type": "execute_result"
    }
   ],
   "source": [
    "cluster_tree"
   ]
  },
  {
   "cell_type": "markdown",
   "metadata": {},
   "source": [
    "Breaking it down. Frist, Source 0 (Beef Braised) was merged with Source 10 (Smoked Ham) at the distance of 0.06844096"
   ]
  },
  {
   "cell_type": "code",
   "execution_count": 10,
   "metadata": {
    "collapsed": false
   },
   "outputs": [
    {
     "data": {
      "text/plain": [
       "array([  0.        ,  10.        ,   0.06844096,   2.        ])"
      ]
     },
     "execution_count": 10,
     "metadata": {},
     "output_type": "execute_result"
    }
   ],
   "source": [
    "cluster_tree[0]"
   ]
  },
  {
   "cell_type": "markdown",
   "metadata": {},
   "source": [
    "At level 12, Source 13 (Beef Tongue) was merged with Sources (Hamburger, Lamb Leg Roast) at the distance of 0.06844096"
   ]
  },
  {
   "cell_type": "code",
   "execution_count": 11,
   "metadata": {
    "collapsed": false
   },
   "outputs": [
    {
     "data": {
      "text/plain": [
       "array([ 13.        ,  31.        ,   1.01252331,   3.        ])"
      ]
     },
     "execution_count": 11,
     "metadata": {},
     "output_type": "execute_result"
    }
   ],
   "source": [
    "cluster_tree[12]"
   ]
  },
  {
   "cell_type": "markdown",
   "metadata": {},
   "source": [
    "Finally, we can see that all 26 Sources merged together into one big group."
   ]
  },
  {
   "cell_type": "code",
   "execution_count": 12,
   "metadata": {
    "collapsed": false
   },
   "outputs": [
    {
     "data": {
      "text/plain": [
       "array([ 44.        ,  49.        ,   8.97753648,  26.        ])"
      ]
     },
     "execution_count": 12,
     "metadata": {},
     "output_type": "execute_result"
    }
   ],
   "source": [
    "cluster_tree[-1]"
   ]
  },
  {
   "cell_type": "markdown",
   "metadata": {},
   "source": [
    "Ok, time to assign each Source to it's cluster.\n",
    "We can see above that there is a great increase in distance between cluster_tree[21] & cluster_tree[22]. So that's where we\n",
    "should cut our dendrogram (as did earlier with color_threshold=4.5) at 4.5"
   ]
  },
  {
   "cell_type": "code",
   "execution_count": 13,
   "metadata": {
    "collapsed": false
   },
   "outputs": [
    {
     "data": {
      "text/plain": [
       "array([1, 4, 1, 1, 4, 4, 4, 4, 4, 1, 1, 1, 1, 4, 4, 4, 2, 2, 3, 3, 3, 3, 3,\n",
       "       3, 4, 4], dtype=int32)"
      ]
     },
     "execution_count": 13,
     "metadata": {},
     "output_type": "execute_result"
    }
   ],
   "source": [
    "max_distance = 4.5\n",
    "clusters = fcluster(cluster_tree, max_distance, criterion='distance')\n",
    "clusters"
   ]
  },
  {
   "cell_type": "code",
   "execution_count": 14,
   "metadata": {
    "collapsed": false
   },
   "outputs": [
    {
     "data": {
      "text/html": [
       "<div>\n",
       "<table border=\"1\" class=\"dataframe\">\n",
       "  <thead>\n",
       "    <tr style=\"text-align: right;\">\n",
       "      <th></th>\n",
       "      <th>source</th>\n",
       "      <th>energy</th>\n",
       "      <th>protein</th>\n",
       "      <th>fat</th>\n",
       "      <th>iron</th>\n",
       "      <th>cluster</th>\n",
       "    </tr>\n",
       "  </thead>\n",
       "  <tbody>\n",
       "    <tr>\n",
       "      <th>0</th>\n",
       "      <td>BEEF BRAISED</td>\n",
       "      <td>340</td>\n",
       "      <td>20</td>\n",
       "      <td>28</td>\n",
       "      <td>2.6</td>\n",
       "      <td>1</td>\n",
       "    </tr>\n",
       "    <tr>\n",
       "      <th>1</th>\n",
       "      <td>HAMBURGER</td>\n",
       "      <td>245</td>\n",
       "      <td>21</td>\n",
       "      <td>17</td>\n",
       "      <td>2.7</td>\n",
       "      <td>4</td>\n",
       "    </tr>\n",
       "    <tr>\n",
       "      <th>2</th>\n",
       "      <td>BEEF ROAST</td>\n",
       "      <td>420</td>\n",
       "      <td>15</td>\n",
       "      <td>39</td>\n",
       "      <td>2.0</td>\n",
       "      <td>1</td>\n",
       "    </tr>\n",
       "    <tr>\n",
       "      <th>3</th>\n",
       "      <td>BEEF STEAK</td>\n",
       "      <td>375</td>\n",
       "      <td>19</td>\n",
       "      <td>32</td>\n",
       "      <td>2.6</td>\n",
       "      <td>1</td>\n",
       "    </tr>\n",
       "    <tr>\n",
       "      <th>4</th>\n",
       "      <td>BEEF CANNED</td>\n",
       "      <td>180</td>\n",
       "      <td>22</td>\n",
       "      <td>10</td>\n",
       "      <td>3.7</td>\n",
       "      <td>4</td>\n",
       "    </tr>\n",
       "  </tbody>\n",
       "</table>\n",
       "</div>"
      ],
      "text/plain": [
       "         source  energy  protein  fat  iron  cluster\n",
       "0  BEEF BRAISED     340       20   28   2.6        1\n",
       "1     HAMBURGER     245       21   17   2.7        4\n",
       "2    BEEF ROAST     420       15   39   2.0        1\n",
       "3    BEEF STEAK     375       19   32   2.6        1\n",
       "4   BEEF CANNED     180       22   10   3.7        4"
      ]
     },
     "execution_count": 14,
     "metadata": {},
     "output_type": "execute_result"
    }
   ],
   "source": [
    "protiens['cluster'] = clusters\n",
    "protiens.head()"
   ]
  },
  {
   "cell_type": "markdown",
   "metadata": {},
   "source": [
    "Alright, now that we assigend the Sources to clusters we can start analyzing!\n",
    "\n",
    "Lets see the sizes of our clusters."
   ]
  },
  {
   "cell_type": "code",
   "execution_count": 15,
   "metadata": {
    "collapsed": false
   },
   "outputs": [
    {
     "data": {
      "text/plain": [
       "4    11\n",
       "1     7\n",
       "3     6\n",
       "2     2\n",
       "Name: cluster, dtype: int64"
      ]
     },
     "execution_count": 15,
     "metadata": {},
     "output_type": "execute_result"
    }
   ],
   "source": [
    "protiens['cluster'].value_counts()"
   ]
  },
  {
   "cell_type": "markdown",
   "metadata": {},
   "source": [
    "Ok, let's see how the clusters differentiate from one another."
   ]
  },
  {
   "cell_type": "code",
   "execution_count": 16,
   "metadata": {
    "collapsed": false
   },
   "outputs": [
    {
     "data": {
      "text/html": [
       "<div>\n",
       "<table border=\"1\" class=\"dataframe\">\n",
       "  <thead>\n",
       "    <tr style=\"text-align: right;\">\n",
       "      <th></th>\n",
       "      <th>energy</th>\n",
       "      <th>protein</th>\n",
       "      <th>fat</th>\n",
       "      <th>iron</th>\n",
       "    </tr>\n",
       "    <tr>\n",
       "      <th>cluster</th>\n",
       "      <th></th>\n",
       "      <th></th>\n",
       "      <th></th>\n",
       "      <th></th>\n",
       "    </tr>\n",
       "  </thead>\n",
       "  <tbody>\n",
       "    <tr>\n",
       "      <th>1</th>\n",
       "      <td>352.857143</td>\n",
       "      <td>18.571429</td>\n",
       "      <td>30.142857</td>\n",
       "      <td>2.414286</td>\n",
       "    </tr>\n",
       "    <tr>\n",
       "      <th>2</th>\n",
       "      <td>57.500000</td>\n",
       "      <td>9.000000</td>\n",
       "      <td>1.000000</td>\n",
       "      <td>5.700000</td>\n",
       "    </tr>\n",
       "    <tr>\n",
       "      <th>3</th>\n",
       "      <td>149.166667</td>\n",
       "      <td>16.333333</td>\n",
       "      <td>7.500000</td>\n",
       "      <td>1.016667</td>\n",
       "    </tr>\n",
       "    <tr>\n",
       "      <th>4</th>\n",
       "      <td>176.363636</td>\n",
       "      <td>22.272727</td>\n",
       "      <td>8.818182</td>\n",
       "      <td>2.490909</td>\n",
       "    </tr>\n",
       "  </tbody>\n",
       "</table>\n",
       "</div>"
      ],
      "text/plain": [
       "             energy    protein        fat      iron\n",
       "cluster                                            \n",
       "1        352.857143  18.571429  30.142857  2.414286\n",
       "2         57.500000   9.000000   1.000000  5.700000\n",
       "3        149.166667  16.333333   7.500000  1.016667\n",
       "4        176.363636  22.272727   8.818182  2.490909"
      ]
     },
     "execution_count": 16,
     "metadata": {},
     "output_type": "execute_result"
    }
   ],
   "source": [
    "protiens_mean = protiens.groupby('cluster').mean()\n",
    "protiens_mean"
   ]
  },
  {
   "cell_type": "markdown",
   "metadata": {},
   "source": [
    "Ok, Lets bar plot our features by their mean value and see what we're looking at."
   ]
  },
  {
   "cell_type": "code",
   "execution_count": 17,
   "metadata": {
    "collapsed": false,
    "scrolled": false
   },
   "outputs": [
    {
     "data": {
      "image/png": "[encoded data removed]",
      "text/plain": [
       "<matplotlib.figure.Figure at 0x1ceb213e518>"
      ]
     },
     "metadata": {},
     "output_type": "display_data"
    }
   ],
   "source": [
    "fig, ax1, ax2, ax3, ax4 = plt.figure(figsize=(14,9)), plt.subplot2grid((2,2), (0,0)), plt.subplot2grid((2,2), (0,1)),\\\n",
    "                                    plt.subplot2grid((2,2), (1,0)), plt.subplot2grid((2,2), (1,1))\n",
    "\n",
    "colors = ['g', 'r', 'lightblue', 'purple']\n",
    "    \n",
    "protiens_mean['energy'].plot(kind='bar', ax=ax1, title='Mean Energy by Cluster', color=colors)\n",
    "ax1.set_ylabel('Mean Energy')\n",
    "ax1.set_xlabel('Cluster')\n",
    "\n",
    "protiens_mean['protein'].plot(kind='bar', ax=ax2, title='Mean Protien by Cluster', color=colors)\n",
    "ax2.set_ylabel('Mean Protien')\n",
    "ax2.set_xlabel('Cluster')\n",
    "\n",
    "protiens_mean['fat'].plot(kind='bar', ax=ax3, title='Mean Fat by Cluster', color=colors)\n",
    "ax3.set_ylabel('Mean Fat')\n",
    "ax3.set_xlabel('Cluster')\n",
    "\n",
    "protiens_mean['iron'].plot(kind='bar', ax=ax4, title='Mean Iron by Cluster', color=colors)\n",
    "ax4.set_ylabel('Mean Iron')\n",
    "ax4.set_xlabel('Cluster')\n",
    "\n",
    "plt.tight_layout()"
   ]
  },
  {
   "cell_type": "markdown",
   "metadata": {},
   "source": [
    "We should also look at a pair plot to see how the clusters differ from one another."
   ]
  },
  {
   "cell_type": "code",
   "execution_count": 18,
   "metadata": {
    "collapsed": false
   },
   "outputs": [
    {
     "data": {
      "text/plain": [
       "<seaborn.axisgrid.PairGrid at 0x1ceb183b3c8>"
      ]
     },
     "execution_count": 18,
     "metadata": {},
     "output_type": "execute_result"
    },
    {
     "data": {
      "image/png": "[encoded data removed]",
      "text/plain": [
       "<matplotlib.figure.Figure at 0x1ceb183b828>"
      ]
     },
     "metadata": {},
     "output_type": "display_data"
    }
   ],
   "source": [
    "pairplot(protiens, hue='cluster', palette=colors, vars=['energy', 'protein', 'fat','iron'])"
   ]
  },
  {
   "cell_type": "markdown",
   "metadata": {},
   "source": [
    "Cluster 1 seems to consist of all the smoked and roasted red meets. high in fat, protiens and energy."
   ]
  },
  {
   "cell_type": "code",
   "execution_count": 19,
   "metadata": {
    "collapsed": false
   },
   "outputs": [
    {
     "data": {
      "text/html": [
       "<div>\n",
       "<table border=\"1\" class=\"dataframe\">\n",
       "  <thead>\n",
       "    <tr style=\"text-align: right;\">\n",
       "      <th></th>\n",
       "      <th>source</th>\n",
       "      <th>energy</th>\n",
       "      <th>protein</th>\n",
       "      <th>fat</th>\n",
       "      <th>iron</th>\n",
       "      <th>cluster</th>\n",
       "    </tr>\n",
       "  </thead>\n",
       "  <tbody>\n",
       "    <tr>\n",
       "      <th>0</th>\n",
       "      <td>BEEF BRAISED</td>\n",
       "      <td>340</td>\n",
       "      <td>20</td>\n",
       "      <td>28</td>\n",
       "      <td>2.6</td>\n",
       "      <td>1</td>\n",
       "    </tr>\n",
       "    <tr>\n",
       "      <th>2</th>\n",
       "      <td>BEEF ROAST</td>\n",
       "      <td>420</td>\n",
       "      <td>15</td>\n",
       "      <td>39</td>\n",
       "      <td>2.0</td>\n",
       "      <td>1</td>\n",
       "    </tr>\n",
       "    <tr>\n",
       "      <th>3</th>\n",
       "      <td>BEEF STEAK</td>\n",
       "      <td>375</td>\n",
       "      <td>19</td>\n",
       "      <td>32</td>\n",
       "      <td>2.6</td>\n",
       "      <td>1</td>\n",
       "    </tr>\n",
       "    <tr>\n",
       "      <th>9</th>\n",
       "      <td>LAMB SHOULDER ROAST</td>\n",
       "      <td>300</td>\n",
       "      <td>18</td>\n",
       "      <td>25</td>\n",
       "      <td>2.3</td>\n",
       "      <td>1</td>\n",
       "    </tr>\n",
       "    <tr>\n",
       "      <th>10</th>\n",
       "      <td>SMOKED HAM</td>\n",
       "      <td>340</td>\n",
       "      <td>20</td>\n",
       "      <td>28</td>\n",
       "      <td>2.5</td>\n",
       "      <td>1</td>\n",
       "    </tr>\n",
       "    <tr>\n",
       "      <th>11</th>\n",
       "      <td>PORK ROAST</td>\n",
       "      <td>340</td>\n",
       "      <td>19</td>\n",
       "      <td>29</td>\n",
       "      <td>2.5</td>\n",
       "      <td>1</td>\n",
       "    </tr>\n",
       "    <tr>\n",
       "      <th>12</th>\n",
       "      <td>PORK SIMMERED</td>\n",
       "      <td>355</td>\n",
       "      <td>19</td>\n",
       "      <td>30</td>\n",
       "      <td>2.4</td>\n",
       "      <td>1</td>\n",
       "    </tr>\n",
       "  </tbody>\n",
       "</table>\n",
       "</div>"
      ],
      "text/plain": [
       "                 source  energy  protein  fat  iron  cluster\n",
       "0          BEEF BRAISED     340       20   28   2.6        1\n",
       "2            BEEF ROAST     420       15   39   2.0        1\n",
       "3            BEEF STEAK     375       19   32   2.6        1\n",
       "9   LAMB SHOULDER ROAST     300       18   25   2.3        1\n",
       "10           SMOKED HAM     340       20   28   2.5        1\n",
       "11           PORK ROAST     340       19   29   2.5        1\n",
       "12        PORK SIMMERED     355       19   30   2.4        1"
      ]
     },
     "execution_count": 19,
     "metadata": {},
     "output_type": "execute_result"
    }
   ],
   "source": [
    "protiens[(protiens['cluster'] == 1)]"
   ]
  },
  {
   "cell_type": "markdown",
   "metadata": {},
   "source": [
    "Cluster 2 seems to consist of clams. high in iron but low on the rest."
   ]
  },
  {
   "cell_type": "code",
   "execution_count": 20,
   "metadata": {
    "collapsed": false
   },
   "outputs": [
    {
     "data": {
      "text/html": [
       "<div>\n",
       "<table border=\"1\" class=\"dataframe\">\n",
       "  <thead>\n",
       "    <tr style=\"text-align: right;\">\n",
       "      <th></th>\n",
       "      <th>source</th>\n",
       "      <th>energy</th>\n",
       "      <th>protein</th>\n",
       "      <th>fat</th>\n",
       "      <th>iron</th>\n",
       "      <th>cluster</th>\n",
       "    </tr>\n",
       "  </thead>\n",
       "  <tbody>\n",
       "    <tr>\n",
       "      <th>16</th>\n",
       "      <td>CLAMS RAW</td>\n",
       "      <td>70</td>\n",
       "      <td>11</td>\n",
       "      <td>1</td>\n",
       "      <td>6.0</td>\n",
       "      <td>2</td>\n",
       "    </tr>\n",
       "    <tr>\n",
       "      <th>17</th>\n",
       "      <td>CLAMS CANNED</td>\n",
       "      <td>45</td>\n",
       "      <td>7</td>\n",
       "      <td>1</td>\n",
       "      <td>5.4</td>\n",
       "      <td>2</td>\n",
       "    </tr>\n",
       "  </tbody>\n",
       "</table>\n",
       "</div>"
      ],
      "text/plain": [
       "          source  energy  protein  fat  iron  cluster\n",
       "16     CLAMS RAW      70       11    1   6.0        2\n",
       "17  CLAMS CANNED      45        7    1   5.4        2"
      ]
     },
     "execution_count": 20,
     "metadata": {},
     "output_type": "execute_result"
    }
   ],
   "source": [
    "protiens[(protiens['cluster'] == 2)]"
   ]
  },
  {
   "cell_type": "markdown",
   "metadata": {},
   "source": [
    "Cluster 3 seems to consist of all the the fish sources of protien. pretty average amongst the other clusters."
   ]
  },
  {
   "cell_type": "code",
   "execution_count": 21,
   "metadata": {
    "collapsed": false
   },
   "outputs": [
    {
     "data": {
      "text/html": [
       "<div>\n",
       "<table border=\"1\" class=\"dataframe\">\n",
       "  <thead>\n",
       "    <tr style=\"text-align: right;\">\n",
       "      <th></th>\n",
       "      <th>source</th>\n",
       "      <th>energy</th>\n",
       "      <th>protein</th>\n",
       "      <th>fat</th>\n",
       "      <th>iron</th>\n",
       "      <th>cluster</th>\n",
       "    </tr>\n",
       "  </thead>\n",
       "  <tbody>\n",
       "    <tr>\n",
       "      <th>18</th>\n",
       "      <td>CRABMEAT CANNED</td>\n",
       "      <td>90</td>\n",
       "      <td>14</td>\n",
       "      <td>2</td>\n",
       "      <td>0.8</td>\n",
       "      <td>3</td>\n",
       "    </tr>\n",
       "    <tr>\n",
       "      <th>19</th>\n",
       "      <td>HADDOCK FRIED</td>\n",
       "      <td>135</td>\n",
       "      <td>16</td>\n",
       "      <td>5</td>\n",
       "      <td>0.5</td>\n",
       "      <td>3</td>\n",
       "    </tr>\n",
       "    <tr>\n",
       "      <th>20</th>\n",
       "      <td>MACKEREL BROILED</td>\n",
       "      <td>200</td>\n",
       "      <td>19</td>\n",
       "      <td>13</td>\n",
       "      <td>1.0</td>\n",
       "      <td>3</td>\n",
       "    </tr>\n",
       "    <tr>\n",
       "      <th>21</th>\n",
       "      <td>MACKEREL CANNED</td>\n",
       "      <td>155</td>\n",
       "      <td>16</td>\n",
       "      <td>9</td>\n",
       "      <td>1.8</td>\n",
       "      <td>3</td>\n",
       "    </tr>\n",
       "    <tr>\n",
       "      <th>22</th>\n",
       "      <td>PERCH FRIED</td>\n",
       "      <td>195</td>\n",
       "      <td>16</td>\n",
       "      <td>11</td>\n",
       "      <td>1.3</td>\n",
       "      <td>3</td>\n",
       "    </tr>\n",
       "    <tr>\n",
       "      <th>23</th>\n",
       "      <td>SALMON CANNED</td>\n",
       "      <td>120</td>\n",
       "      <td>17</td>\n",
       "      <td>5</td>\n",
       "      <td>0.7</td>\n",
       "      <td>3</td>\n",
       "    </tr>\n",
       "  </tbody>\n",
       "</table>\n",
       "</div>"
      ],
      "text/plain": [
       "              source  energy  protein  fat  iron  cluster\n",
       "18   CRABMEAT CANNED      90       14    2   0.8        3\n",
       "19     HADDOCK FRIED     135       16    5   0.5        3\n",
       "20  MACKEREL BROILED     200       19   13   1.0        3\n",
       "21   MACKEREL CANNED     155       16    9   1.8        3\n",
       "22       PERCH FRIED     195       16   11   1.3        3\n",
       "23     SALMON CANNED     120       17    5   0.7        3"
      ]
     },
     "execution_count": 21,
     "metadata": {},
     "output_type": "execute_result"
    }
   ],
   "source": [
    "protiens[(protiens['cluster'] == 3)]"
   ]
  },
  {
   "cell_type": "markdown",
   "metadata": {},
   "source": [
    "Cluster 4 seems to consist of high sources of protien while pretty average on the rest of the features.\n",
    "In other words, your casual sources of protien."
   ]
  },
  {
   "cell_type": "code",
   "execution_count": 22,
   "metadata": {
    "collapsed": false
   },
   "outputs": [
    {
     "data": {
      "text/html": [
       "<div>\n",
       "<table border=\"1\" class=\"dataframe\">\n",
       "  <thead>\n",
       "    <tr style=\"text-align: right;\">\n",
       "      <th></th>\n",
       "      <th>source</th>\n",
       "      <th>energy</th>\n",
       "      <th>protein</th>\n",
       "      <th>fat</th>\n",
       "      <th>iron</th>\n",
       "      <th>cluster</th>\n",
       "    </tr>\n",
       "  </thead>\n",
       "  <tbody>\n",
       "    <tr>\n",
       "      <th>1</th>\n",
       "      <td>HAMBURGER</td>\n",
       "      <td>245</td>\n",
       "      <td>21</td>\n",
       "      <td>17</td>\n",
       "      <td>2.7</td>\n",
       "      <td>4</td>\n",
       "    </tr>\n",
       "    <tr>\n",
       "      <th>4</th>\n",
       "      <td>BEEF CANNED</td>\n",
       "      <td>180</td>\n",
       "      <td>22</td>\n",
       "      <td>10</td>\n",
       "      <td>3.7</td>\n",
       "      <td>4</td>\n",
       "    </tr>\n",
       "    <tr>\n",
       "      <th>5</th>\n",
       "      <td>CHICKEN BROILED</td>\n",
       "      <td>115</td>\n",
       "      <td>20</td>\n",
       "      <td>3</td>\n",
       "      <td>1.4</td>\n",
       "      <td>4</td>\n",
       "    </tr>\n",
       "    <tr>\n",
       "      <th>6</th>\n",
       "      <td>CHICKEN CANNED</td>\n",
       "      <td>170</td>\n",
       "      <td>25</td>\n",
       "      <td>7</td>\n",
       "      <td>1.5</td>\n",
       "      <td>4</td>\n",
       "    </tr>\n",
       "    <tr>\n",
       "      <th>7</th>\n",
       "      <td>BEEF HEART</td>\n",
       "      <td>160</td>\n",
       "      <td>26</td>\n",
       "      <td>5</td>\n",
       "      <td>5.9</td>\n",
       "      <td>4</td>\n",
       "    </tr>\n",
       "    <tr>\n",
       "      <th>8</th>\n",
       "      <td>LAMB LEG ROAST</td>\n",
       "      <td>265</td>\n",
       "      <td>20</td>\n",
       "      <td>20</td>\n",
       "      <td>2.6</td>\n",
       "      <td>4</td>\n",
       "    </tr>\n",
       "    <tr>\n",
       "      <th>13</th>\n",
       "      <td>BEEF TONGUE</td>\n",
       "      <td>205</td>\n",
       "      <td>18</td>\n",
       "      <td>14</td>\n",
       "      <td>2.5</td>\n",
       "      <td>4</td>\n",
       "    </tr>\n",
       "    <tr>\n",
       "      <th>14</th>\n",
       "      <td>VEAL CUTLET</td>\n",
       "      <td>185</td>\n",
       "      <td>23</td>\n",
       "      <td>9</td>\n",
       "      <td>2.7</td>\n",
       "      <td>4</td>\n",
       "    </tr>\n",
       "    <tr>\n",
       "      <th>15</th>\n",
       "      <td>BLUEFISH BAKED</td>\n",
       "      <td>135</td>\n",
       "      <td>22</td>\n",
       "      <td>4</td>\n",
       "      <td>0.6</td>\n",
       "      <td>4</td>\n",
       "    </tr>\n",
       "    <tr>\n",
       "      <th>24</th>\n",
       "      <td>TUNA CANNED</td>\n",
       "      <td>170</td>\n",
       "      <td>25</td>\n",
       "      <td>7</td>\n",
       "      <td>1.2</td>\n",
       "      <td>4</td>\n",
       "    </tr>\n",
       "    <tr>\n",
       "      <th>25</th>\n",
       "      <td>SHRIMP CANNED</td>\n",
       "      <td>110</td>\n",
       "      <td>23</td>\n",
       "      <td>1</td>\n",
       "      <td>2.6</td>\n",
       "      <td>4</td>\n",
       "    </tr>\n",
       "  </tbody>\n",
       "</table>\n",
       "</div>"
      ],
      "text/plain": [
       "             source  energy  protein  fat  iron  cluster\n",
       "1         HAMBURGER     245       21   17   2.7        4\n",
       "4       BEEF CANNED     180       22   10   3.7        4\n",
       "5   CHICKEN BROILED     115       20    3   1.4        4\n",
       "6    CHICKEN CANNED     170       25    7   1.5        4\n",
       "7        BEEF HEART     160       26    5   5.9        4\n",
       "8    LAMB LEG ROAST     265       20   20   2.6        4\n",
       "13      BEEF TONGUE     205       18   14   2.5        4\n",
       "14      VEAL CUTLET     185       23    9   2.7        4\n",
       "15   BLUEFISH BAKED     135       22    4   0.6        4\n",
       "24      TUNA CANNED     170       25    7   1.2        4\n",
       "25    SHRIMP CANNED     110       23    1   2.6        4"
      ]
     },
     "execution_count": 22,
     "metadata": {},
     "output_type": "execute_result"
    }
   ],
   "source": [
    "protiens[(protiens['cluster'] == 4)]"
   ]
  }
 ],
 "metadata": {
  "kernelspec": {
   "display_name": "Python 3",
   "language": "python",
   "name": "python3"
  },
  "language_info": {
   "codemirror_mode": {
    "name": "ipython",
    "version": 3
   },
   "file_extension": ".py",
   "mimetype": "text/x-python",
   "name": "python",
   "nbconvert_exporter": "python",
   "pygments_lexer": "ipython3",
   "version": "3.6.0"
  }
 },
 "nbformat": 4,
 "nbformat_minor": 2
}
